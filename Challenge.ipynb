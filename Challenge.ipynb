{
 "cells": [
  {
   "cell_type": "code",
   "execution_count": 21,
   "id": "3a804661",
   "metadata": {},
   "outputs": [
    {
     "name": "stdout",
     "output_type": "stream",
     "text": [
      "Requirement already satisfied: pandas in c:\\users\\juanpablo\\anaconda3\\lib\\site-packages (1.5.3)\n",
      "Requirement already satisfied: python-dateutil>=2.8.1 in c:\\users\\juanpablo\\anaconda3\\lib\\site-packages (from pandas) (2.8.2)\n",
      "Requirement already satisfied: pytz>=2020.1 in c:\\users\\juanpablo\\anaconda3\\lib\\site-packages (from pandas) (2021.3)\n",
      "Requirement already satisfied: numpy>=1.20.3 in c:\\users\\juanpablo\\anaconda3\\lib\\site-packages (from pandas) (1.21.5)\n",
      "Requirement already satisfied: six>=1.5 in c:\\users\\juanpablo\\anaconda3\\lib\\site-packages (from python-dateutil>=2.8.1->pandas) (1.16.0)\n",
      "Note: you may need to restart the kernel to use updated packages.\n"
     ]
    }
   ],
   "source": [
    "pip install pandas"
   ]
  },
  {
   "cell_type": "code",
   "execution_count": 20,
   "id": "1280f20d",
   "metadata": {},
   "outputs": [
    {
     "name": "stdout",
     "output_type": "stream",
     "text": [
      "Requirement already satisfied: datetime in c:\\users\\juanpablo\\anaconda3\\lib\\site-packages (4.9)\n",
      "Requirement already satisfied: zope.interface in c:\\users\\juanpablo\\anaconda3\\lib\\site-packages (from datetime) (5.4.0)\n",
      "Requirement already satisfied: pytz in c:\\users\\juanpablo\\anaconda3\\lib\\site-packages (from datetime) (2021.3)\n",
      "Requirement already satisfied: setuptools in c:\\users\\juanpablo\\anaconda3\\lib\\site-packages (from zope.interface->datetime) (61.2.0)\n",
      "Note: you may need to restart the kernel to use updated packages.\n"
     ]
    }
   ],
   "source": [
    "pip install datetime"
   ]
  },
  {
   "cell_type": "code",
   "execution_count": 19,
   "id": "45d38d76",
   "metadata": {},
   "outputs": [
    {
     "name": "stdout",
     "output_type": "stream",
     "text": [
      "Requirement already satisfied: shimoku-components-catalog in c:\\users\\juanpablo\\anaconda3\\lib\\site-packages (0.2.1)\n",
      "Note: you may need to restart the kernel to use updated packages.\n"
     ]
    }
   ],
   "source": [
    "pip install shimoku-components-catalog"
   ]
  },
  {
   "cell_type": "code",
   "execution_count": 18,
   "id": "627bcfc6",
   "metadata": {},
   "outputs": [
    {
     "name": "stdout",
     "output_type": "stream",
     "text": [
      "Requirement already satisfied: json5 in c:\\users\\juanpablo\\anaconda3\\lib\\site-packages (0.9.14)Note: you may need to restart the kernel to use updated packages.\n",
      "\n"
     ]
    }
   ],
   "source": [
    "pip install json5"
   ]
  },
  {
   "cell_type": "code",
   "execution_count": 9,
   "id": "33427fcb",
   "metadata": {},
   "outputs": [
    {
     "name": "stdout",
     "output_type": "stream",
     "text": [
      "Requirement already satisfied: shimoku_api_python in c:\\users\\juanpablo\\anaconda3\\lib\\site-packages (1.0)\n",
      "Requirement already satisfied: tenacity~=8.1.0 in c:\\users\\juanpablo\\anaconda3\\lib\\site-packages (from shimoku_api_python) (8.1.0)\n",
      "Requirement already satisfied: datetime~=4.9 in c:\\users\\juanpablo\\anaconda3\\lib\\site-packages (from shimoku_api_python) (4.9)\n",
      "Requirement already satisfied: aiohttp~=3.8.3 in c:\\users\\juanpablo\\anaconda3\\lib\\site-packages (from shimoku_api_python) (3.8.4)\n",
      "Requirement already satisfied: shimoku-components-catalog>=0.2.1 in c:\\users\\juanpablo\\anaconda3\\lib\\site-packages (from shimoku_api_python) (0.2.1)\n",
      "Requirement already satisfied: requests~=2.28.1 in c:\\users\\juanpablo\\anaconda3\\lib\\site-packages (from shimoku_api_python) (2.28.2)\n",
      "Requirement already satisfied: ipython>=8.10 in c:\\users\\juanpablo\\anaconda3\\lib\\site-packages (from shimoku_api_python) (8.14.0)\n",
      "Requirement already satisfied: json5~=0.9.10 in c:\\users\\juanpablo\\anaconda3\\lib\\site-packages (from shimoku_api_python) (0.9.14)\n",
      "Requirement already satisfied: psutil~=5.9.4 in c:\\users\\juanpablo\\anaconda3\\lib\\site-packages (from shimoku_api_python) (5.9.5)\n",
      "Requirement already satisfied: tqdm~=4.64.1 in c:\\users\\juanpablo\\anaconda3\\lib\\site-packages (from shimoku_api_python) (4.64.1)\n",
      "Requirement already satisfied: pandas~=1.5.2 in c:\\users\\juanpablo\\anaconda3\\lib\\site-packages (from shimoku_api_python) (1.5.3)\n",
      "Requirement already satisfied: charset-normalizer<4.0,>=2.0 in c:\\users\\juanpablo\\anaconda3\\lib\\site-packages (from aiohttp~=3.8.3->shimoku_api_python) (2.0.4)\n",
      "Requirement already satisfied: multidict<7.0,>=4.5 in c:\\users\\juanpablo\\anaconda3\\lib\\site-packages (from aiohttp~=3.8.3->shimoku_api_python) (5.1.0)\n",
      "Requirement already satisfied: attrs>=17.3.0 in c:\\users\\juanpablo\\anaconda3\\lib\\site-packages (from aiohttp~=3.8.3->shimoku_api_python) (21.4.0)\n",
      "Requirement already satisfied: yarl<2.0,>=1.0 in c:\\users\\juanpablo\\anaconda3\\lib\\site-packages (from aiohttp~=3.8.3->shimoku_api_python) (1.6.3)\n",
      "Requirement already satisfied: aiosignal>=1.1.2 in c:\\users\\juanpablo\\anaconda3\\lib\\site-packages (from aiohttp~=3.8.3->shimoku_api_python) (1.2.0)\n",
      "Requirement already satisfied: async-timeout<5.0,>=4.0.0a3 in c:\\users\\juanpablo\\anaconda3\\lib\\site-packages (from aiohttp~=3.8.3->shimoku_api_python) (4.0.1)\n",
      "Requirement already satisfied: frozenlist>=1.1.1 in c:\\users\\juanpablo\\anaconda3\\lib\\site-packages (from aiohttp~=3.8.3->shimoku_api_python) (1.2.0)\n",
      "Requirement already satisfied: typing-extensions>=3.6.5 in c:\\users\\juanpablo\\anaconda3\\lib\\site-packages (from async-timeout<5.0,>=4.0.0a3->aiohttp~=3.8.3->shimoku_api_python) (4.1.1)\n",
      "Requirement already satisfied: zope.interface in c:\\users\\juanpablo\\anaconda3\\lib\\site-packages (from datetime~=4.9->shimoku_api_python) (5.4.0)\n",
      "Requirement already satisfied: pytz in c:\\users\\juanpablo\\anaconda3\\lib\\site-packages (from datetime~=4.9->shimoku_api_python) (2021.3)\n",
      "Requirement already satisfied: matplotlib-inline in c:\\users\\juanpablo\\anaconda3\\lib\\site-packages (from ipython>=8.10->shimoku_api_python) (0.1.2)\n",
      "Requirement already satisfied: jedi>=0.16 in c:\\users\\juanpablo\\anaconda3\\lib\\site-packages (from ipython>=8.10->shimoku_api_python) (0.18.1)\n",
      "Requirement already satisfied: prompt-toolkit!=3.0.37,<3.1.0,>=3.0.30 in c:\\users\\juanpablo\\anaconda3\\lib\\site-packages (from ipython>=8.10->shimoku_api_python) (3.0.39)\n",
      "Requirement already satisfied: stack-data in c:\\users\\juanpablo\\anaconda3\\lib\\site-packages (from ipython>=8.10->shimoku_api_python) (0.2.0)\n",
      "Requirement already satisfied: pygments>=2.4.0 in c:\\users\\juanpablo\\anaconda3\\lib\\site-packages (from ipython>=8.10->shimoku_api_python) (2.11.2)\n",
      "Requirement already satisfied: colorama in c:\\users\\juanpablo\\anaconda3\\lib\\site-packages (from ipython>=8.10->shimoku_api_python) (0.4.4)\n",
      "Requirement already satisfied: pickleshare in c:\\users\\juanpablo\\anaconda3\\lib\\site-packages (from ipython>=8.10->shimoku_api_python) (0.7.5)\n",
      "Requirement already satisfied: traitlets>=5 in c:\\users\\juanpablo\\anaconda3\\lib\\site-packages (from ipython>=8.10->shimoku_api_python) (5.1.1)\n",
      "Requirement already satisfied: decorator in c:\\users\\juanpablo\\anaconda3\\lib\\site-packages (from ipython>=8.10->shimoku_api_python) (5.1.1)\n",
      "Requirement already satisfied: backcall in c:\\users\\juanpablo\\anaconda3\\lib\\site-packages (from ipython>=8.10->shimoku_api_python) (0.2.0)\n",
      "Requirement already satisfied: parso<0.9.0,>=0.8.0 in c:\\users\\juanpablo\\anaconda3\\lib\\site-packages (from jedi>=0.16->ipython>=8.10->shimoku_api_python) (0.8.3)\n",
      "Requirement already satisfied: python-dateutil>=2.8.1 in c:\\users\\juanpablo\\anaconda3\\lib\\site-packages (from pandas~=1.5.2->shimoku_api_python) (2.8.2)\n",
      "Requirement already satisfied: numpy>=1.20.3 in c:\\users\\juanpablo\\anaconda3\\lib\\site-packages (from pandas~=1.5.2->shimoku_api_python) (1.21.5)\n",
      "Requirement already satisfied: wcwidth in c:\\users\\juanpablo\\anaconda3\\lib\\site-packages (from prompt-toolkit!=3.0.37,<3.1.0,>=3.0.30->ipython>=8.10->shimoku_api_python) (0.2.5)\n",
      "Requirement already satisfied: six>=1.5 in c:\\users\\juanpablo\\anaconda3\\lib\\site-packages (from python-dateutil>=2.8.1->pandas~=1.5.2->shimoku_api_python) (1.16.0)\n",
      "Requirement already satisfied: urllib3<1.27,>=1.21.1 in c:\\users\\juanpablo\\anaconda3\\lib\\site-packages (from requests~=2.28.1->shimoku_api_python) (1.26.9)\n",
      "Requirement already satisfied: idna<4,>=2.5 in c:\\users\\juanpablo\\anaconda3\\lib\\site-packages (from requests~=2.28.1->shimoku_api_python) (3.3)\n",
      "Requirement already satisfied: certifi>=2017.4.17 in c:\\users\\juanpablo\\anaconda3\\lib\\site-packages (from requests~=2.28.1->shimoku_api_python) (2021.10.8)\n",
      "Requirement already satisfied: asttokens in c:\\users\\juanpablo\\anaconda3\\lib\\site-packages (from stack-data->ipython>=8.10->shimoku_api_python) (2.0.5)\n",
      "Requirement already satisfied: executing in c:\\users\\juanpablo\\anaconda3\\lib\\site-packages (from stack-data->ipython>=8.10->shimoku_api_python) (0.8.3)\n",
      "Requirement already satisfied: pure-eval in c:\\users\\juanpablo\\anaconda3\\lib\\site-packages (from stack-data->ipython>=8.10->shimoku_api_python) (0.2.2)\n",
      "Requirement already satisfied: setuptools in c:\\users\\juanpablo\\anaconda3\\lib\\site-packages (from zope.interface->datetime~=4.9->shimoku_api_python) (61.2.0)\n",
      "Note: you may need to restart the kernel to use updated packages.\n"
     ]
    }
   ],
   "source": [
    "pip install shimoku_api_python"
   ]
  },
  {
   "cell_type": "code",
   "execution_count": 6,
   "id": "d87059a6",
   "metadata": {},
   "outputs": [
    {
     "name": "stdout",
     "output_type": "stream",
     "text": [
      "Note: you may need to restart the kernel to use updated packages.\n"
     ]
    },
    {
     "name": "stderr",
     "output_type": "stream",
     "text": [
      "ERROR: Could not find a version that satisfies the requirement os (from versions: none)\n",
      "ERROR: No matching distribution found for os\n"
     ]
    }
   ],
   "source": [
    "pip install os"
   ]
  },
  {
   "cell_type": "code",
   "execution_count": 5,
   "id": "f38bf75d",
   "metadata": {},
   "outputs": [
    {
     "name": "stdout",
     "output_type": "stream",
     "text": [
      "Requirement already satisfied: requests in c:\\users\\juanpablo\\anaconda3\\lib\\site-packages (2.28.2)\n",
      "Requirement already satisfied: charset-normalizer<4,>=2 in c:\\users\\juanpablo\\anaconda3\\lib\\site-packages (from requests) (2.0.4)\n",
      "Requirement already satisfied: idna<4,>=2.5 in c:\\users\\juanpablo\\anaconda3\\lib\\site-packages (from requests) (3.3)\n",
      "Requirement already satisfied: certifi>=2017.4.17 in c:\\users\\juanpablo\\anaconda3\\lib\\site-packages (from requests) (2021.10.8)\n",
      "Requirement already satisfied: urllib3<1.27,>=1.21.1 in c:\\users\\juanpablo\\anaconda3\\lib\\site-packages (from requests) (1.26.9)\n",
      "Note: you may need to restart the kernel to use updated packages.\n"
     ]
    }
   ],
   "source": [
    "pip install requests"
   ]
  },
  {
   "cell_type": "code",
   "execution_count": 253,
   "id": "b57d60a3",
   "metadata": {},
   "outputs": [],
   "source": [
    "from os import getenv\n",
    "import shimoku_api_python as Shimoku\n",
    "\n",
    "###access_token: str = getenv('d6a3c5f7-02d6-40e7-9ecd-cfd88ec1d005')\n",
    "##universe_id: str = getenv('b5400b42-45a5-4f58-9bc6-ba4a98b1ead6')\n",
    "workspace_id: str = getenv('WORKSPACE_ID')\n",
    "\n",
    "s = Shimoku.Client(\n",
    "    access_token='d6a3c5f7-02d6-40e7-9ecd-cfd88ec1d005',\n",
    "    universe_id='b5400b42-45a5-4f58-9bc6-ba4a98b1ead6')\n",
    "    "
   ]
  },
  {
   "cell_type": "code",
   "execution_count": 254,
   "id": "96ba2dae",
   "metadata": {},
   "outputs": [],
   "source": [
    "s.workspaces.delete_all_workspace_menu_paths(uuid='0f44ae1d-9e6a-42c3-ba45-c0e602dd49a1')"
   ]
  },
  {
   "cell_type": "code",
   "execution_count": 61,
   "id": "58cdcc57",
   "metadata": {},
   "outputs": [
    {
     "data": {
      "text/html": [
       "<div>\n",
       "<style scoped>\n",
       "    .dataframe tbody tr th:only-of-type {\n",
       "        vertical-align: middle;\n",
       "    }\n",
       "\n",
       "    .dataframe tbody tr th {\n",
       "        vertical-align: top;\n",
       "    }\n",
       "\n",
       "    .dataframe thead th {\n",
       "        text-align: right;\n",
       "    }\n",
       "</style>\n",
       "<table border=\"1\" class=\"dataframe\">\n",
       "  <thead>\n",
       "    <tr style=\"text-align: right;\">\n",
       "      <th></th>\n",
       "      <th>Unnamed: 0</th>\n",
       "      <th>id</th>\n",
       "      <th>title</th>\n",
       "      <th>type</th>\n",
       "      <th>description</th>\n",
       "      <th>release_year</th>\n",
       "      <th>age_certification</th>\n",
       "      <th>runtime</th>\n",
       "      <th>genres</th>\n",
       "      <th>production_countries</th>\n",
       "      <th>seasons</th>\n",
       "      <th>imdb_id</th>\n",
       "      <th>imdb_score</th>\n",
       "      <th>imdb_votes</th>\n",
       "      <th>tmdb_popularity</th>\n",
       "      <th>tmdb_score</th>\n",
       "      <th>streaming</th>\n",
       "    </tr>\n",
       "  </thead>\n",
       "  <tbody>\n",
       "    <tr>\n",
       "      <th>0</th>\n",
       "      <td>0</td>\n",
       "      <td>tm87233</td>\n",
       "      <td>It's a Wonderful Life</td>\n",
       "      <td>MOVIE</td>\n",
       "      <td>A holiday favourite for generations...  George...</td>\n",
       "      <td>1946</td>\n",
       "      <td>PG</td>\n",
       "      <td>130</td>\n",
       "      <td>['drama', 'romance', 'comedy', 'family', 'fant...</td>\n",
       "      <td>['US']</td>\n",
       "      <td>NaN</td>\n",
       "      <td>tt0038650</td>\n",
       "      <td>8.6</td>\n",
       "      <td>470551.0</td>\n",
       "      <td>27.860</td>\n",
       "      <td>8.259</td>\n",
       "      <td>amazon</td>\n",
       "    </tr>\n",
       "    <tr>\n",
       "      <th>1</th>\n",
       "      <td>1</td>\n",
       "      <td>ts20945</td>\n",
       "      <td>The Three Stooges</td>\n",
       "      <td>SHOW</td>\n",
       "      <td>The Three Stooges were an American vaudeville ...</td>\n",
       "      <td>1934</td>\n",
       "      <td>TV-PG</td>\n",
       "      <td>19</td>\n",
       "      <td>['comedy', 'family']</td>\n",
       "      <td>['US']</td>\n",
       "      <td>26.0</td>\n",
       "      <td>tt0850645</td>\n",
       "      <td>8.5</td>\n",
       "      <td>1172.0</td>\n",
       "      <td>15.424</td>\n",
       "      <td>7.600</td>\n",
       "      <td>amazon</td>\n",
       "    </tr>\n",
       "    <tr>\n",
       "      <th>2</th>\n",
       "      <td>2</td>\n",
       "      <td>tm19248</td>\n",
       "      <td>The General</td>\n",
       "      <td>MOVIE</td>\n",
       "      <td>During America’s Civil War, Union spies steal ...</td>\n",
       "      <td>1926</td>\n",
       "      <td>NaN</td>\n",
       "      <td>107</td>\n",
       "      <td>['comedy', 'drama', 'action', 'war', 'western'...</td>\n",
       "      <td>['US']</td>\n",
       "      <td>NaN</td>\n",
       "      <td>tt0017925</td>\n",
       "      <td>8.1</td>\n",
       "      <td>93558.0</td>\n",
       "      <td>10.345</td>\n",
       "      <td>8.014</td>\n",
       "      <td>amazon</td>\n",
       "    </tr>\n",
       "    <tr>\n",
       "      <th>3</th>\n",
       "      <td>3</td>\n",
       "      <td>tm82253</td>\n",
       "      <td>The Best Years of Our Lives</td>\n",
       "      <td>MOVIE</td>\n",
       "      <td>It's the hope that sustains the spirit of ever...</td>\n",
       "      <td>1946</td>\n",
       "      <td>NaN</td>\n",
       "      <td>172</td>\n",
       "      <td>['drama', 'romance', 'war']</td>\n",
       "      <td>['US']</td>\n",
       "      <td>NaN</td>\n",
       "      <td>tt0038351</td>\n",
       "      <td>8.1</td>\n",
       "      <td>66794.0</td>\n",
       "      <td>15.819</td>\n",
       "      <td>7.843</td>\n",
       "      <td>amazon</td>\n",
       "    </tr>\n",
       "    <tr>\n",
       "      <th>4</th>\n",
       "      <td>4</td>\n",
       "      <td>tm38206</td>\n",
       "      <td>Whoopee!</td>\n",
       "      <td>MOVIE</td>\n",
       "      <td>Western sheriff Bob Wells is preparing to marr...</td>\n",
       "      <td>1930</td>\n",
       "      <td>NaN</td>\n",
       "      <td>93</td>\n",
       "      <td>['comedy', 'romance', 'western']</td>\n",
       "      <td>['US']</td>\n",
       "      <td>NaN</td>\n",
       "      <td>tt0021549</td>\n",
       "      <td>6.4</td>\n",
       "      <td>1103.0</td>\n",
       "      <td>1.174</td>\n",
       "      <td>7.000</td>\n",
       "      <td>amazon</td>\n",
       "    </tr>\n",
       "  </tbody>\n",
       "</table>\n",
       "</div>"
      ],
      "text/plain": [
       "   Unnamed: 0       id                        title   type  \\\n",
       "0           0  tm87233        It's a Wonderful Life  MOVIE   \n",
       "1           1  ts20945            The Three Stooges   SHOW   \n",
       "2           2  tm19248                  The General  MOVIE   \n",
       "3           3  tm82253  The Best Years of Our Lives  MOVIE   \n",
       "4           4  tm38206                     Whoopee!  MOVIE   \n",
       "\n",
       "                                         description  release_year  \\\n",
       "0  A holiday favourite for generations...  George...          1946   \n",
       "1  The Three Stooges were an American vaudeville ...          1934   \n",
       "2  During America’s Civil War, Union spies steal ...          1926   \n",
       "3  It's the hope that sustains the spirit of ever...          1946   \n",
       "4  Western sheriff Bob Wells is preparing to marr...          1930   \n",
       "\n",
       "  age_certification  runtime  \\\n",
       "0                PG      130   \n",
       "1             TV-PG       19   \n",
       "2               NaN      107   \n",
       "3               NaN      172   \n",
       "4               NaN       93   \n",
       "\n",
       "                                              genres production_countries  \\\n",
       "0  ['drama', 'romance', 'comedy', 'family', 'fant...               ['US']   \n",
       "1                               ['comedy', 'family']               ['US']   \n",
       "2  ['comedy', 'drama', 'action', 'war', 'western'...               ['US']   \n",
       "3                        ['drama', 'romance', 'war']               ['US']   \n",
       "4                   ['comedy', 'romance', 'western']               ['US']   \n",
       "\n",
       "   seasons    imdb_id  imdb_score  imdb_votes  tmdb_popularity  tmdb_score  \\\n",
       "0      NaN  tt0038650         8.6    470551.0           27.860       8.259   \n",
       "1     26.0  tt0850645         8.5      1172.0           15.424       7.600   \n",
       "2      NaN  tt0017925         8.1     93558.0           10.345       8.014   \n",
       "3      NaN  tt0038351         8.1     66794.0           15.819       7.843   \n",
       "4      NaN  tt0021549         6.4      1103.0            1.174       7.000   \n",
       "\n",
       "  streaming  \n",
       "0    amazon  \n",
       "1    amazon  \n",
       "2    amazon  \n",
       "3    amazon  \n",
       "4    amazon  "
      ]
     },
     "execution_count": 61,
     "metadata": {},
     "output_type": "execute_result"
    }
   ],
   "source": [
    "import matplotlib as mpl\n",
    "import matplotlib.pyplot as plt\n",
    "import pandas as pd\n",
    "\n",
    "df_titles = pd.read_csv('all_titles.csv', sep=\",\")\n",
    "df_credits = pd.read_csv('all_credits.csv', sep=\",\")\n",
    "df_titles.head()"
   ]
  },
  {
   "cell_type": "code",
   "execution_count": 62,
   "id": "614988ca",
   "metadata": {},
   "outputs": [],
   "source": [
    "df_peliculas = df_titles.merge(df_credits, on='id', how = \"left\")"
   ]
  },
  {
   "cell_type": "code",
   "execution_count": 63,
   "id": "887cd43a",
   "metadata": {},
   "outputs": [
    {
     "data": {
      "text/html": [
       "<div>\n",
       "<style scoped>\n",
       "    .dataframe tbody tr th:only-of-type {\n",
       "        vertical-align: middle;\n",
       "    }\n",
       "\n",
       "    .dataframe tbody tr th {\n",
       "        vertical-align: top;\n",
       "    }\n",
       "\n",
       "    .dataframe thead th {\n",
       "        text-align: right;\n",
       "    }\n",
       "</style>\n",
       "<table border=\"1\" class=\"dataframe\">\n",
       "  <thead>\n",
       "    <tr style=\"text-align: right;\">\n",
       "      <th></th>\n",
       "      <th>Unnamed: 0_x</th>\n",
       "      <th>id</th>\n",
       "      <th>title</th>\n",
       "      <th>type</th>\n",
       "      <th>description</th>\n",
       "      <th>release_year</th>\n",
       "      <th>age_certification</th>\n",
       "      <th>runtime</th>\n",
       "      <th>genres</th>\n",
       "      <th>production_countries</th>\n",
       "      <th>...</th>\n",
       "      <th>imdb_score</th>\n",
       "      <th>imdb_votes</th>\n",
       "      <th>tmdb_popularity</th>\n",
       "      <th>tmdb_score</th>\n",
       "      <th>streaming</th>\n",
       "      <th>Unnamed: 0_y</th>\n",
       "      <th>person_id</th>\n",
       "      <th>name</th>\n",
       "      <th>character</th>\n",
       "      <th>role</th>\n",
       "    </tr>\n",
       "  </thead>\n",
       "  <tbody>\n",
       "    <tr>\n",
       "      <th>0</th>\n",
       "      <td>0</td>\n",
       "      <td>tm87233</td>\n",
       "      <td>It's a Wonderful Life</td>\n",
       "      <td>MOVIE</td>\n",
       "      <td>A holiday favourite for generations...  George...</td>\n",
       "      <td>1946</td>\n",
       "      <td>PG</td>\n",
       "      <td>130</td>\n",
       "      <td>['drama', 'romance', 'comedy', 'family', 'fant...</td>\n",
       "      <td>['US']</td>\n",
       "      <td>...</td>\n",
       "      <td>8.6</td>\n",
       "      <td>470551.0</td>\n",
       "      <td>27.86</td>\n",
       "      <td>8.259</td>\n",
       "      <td>amazon</td>\n",
       "      <td>0.0</td>\n",
       "      <td>25020.0</td>\n",
       "      <td>James Stewart</td>\n",
       "      <td>George Bailey</td>\n",
       "      <td>ACTOR</td>\n",
       "    </tr>\n",
       "    <tr>\n",
       "      <th>1</th>\n",
       "      <td>0</td>\n",
       "      <td>tm87233</td>\n",
       "      <td>It's a Wonderful Life</td>\n",
       "      <td>MOVIE</td>\n",
       "      <td>A holiday favourite for generations...  George...</td>\n",
       "      <td>1946</td>\n",
       "      <td>PG</td>\n",
       "      <td>130</td>\n",
       "      <td>['drama', 'romance', 'comedy', 'family', 'fant...</td>\n",
       "      <td>['US']</td>\n",
       "      <td>...</td>\n",
       "      <td>8.6</td>\n",
       "      <td>470551.0</td>\n",
       "      <td>27.86</td>\n",
       "      <td>8.259</td>\n",
       "      <td>amazon</td>\n",
       "      <td>1.0</td>\n",
       "      <td>26190.0</td>\n",
       "      <td>Donna Reed</td>\n",
       "      <td>Mary Hatch</td>\n",
       "      <td>ACTOR</td>\n",
       "    </tr>\n",
       "    <tr>\n",
       "      <th>2</th>\n",
       "      <td>0</td>\n",
       "      <td>tm87233</td>\n",
       "      <td>It's a Wonderful Life</td>\n",
       "      <td>MOVIE</td>\n",
       "      <td>A holiday favourite for generations...  George...</td>\n",
       "      <td>1946</td>\n",
       "      <td>PG</td>\n",
       "      <td>130</td>\n",
       "      <td>['drama', 'romance', 'comedy', 'family', 'fant...</td>\n",
       "      <td>['US']</td>\n",
       "      <td>...</td>\n",
       "      <td>8.6</td>\n",
       "      <td>470551.0</td>\n",
       "      <td>27.86</td>\n",
       "      <td>8.259</td>\n",
       "      <td>amazon</td>\n",
       "      <td>2.0</td>\n",
       "      <td>25653.0</td>\n",
       "      <td>Lionel Barrymore</td>\n",
       "      <td>Mr. Potter</td>\n",
       "      <td>ACTOR</td>\n",
       "    </tr>\n",
       "    <tr>\n",
       "      <th>3</th>\n",
       "      <td>0</td>\n",
       "      <td>tm87233</td>\n",
       "      <td>It's a Wonderful Life</td>\n",
       "      <td>MOVIE</td>\n",
       "      <td>A holiday favourite for generations...  George...</td>\n",
       "      <td>1946</td>\n",
       "      <td>PG</td>\n",
       "      <td>130</td>\n",
       "      <td>['drama', 'romance', 'comedy', 'family', 'fant...</td>\n",
       "      <td>['US']</td>\n",
       "      <td>...</td>\n",
       "      <td>8.6</td>\n",
       "      <td>470551.0</td>\n",
       "      <td>27.86</td>\n",
       "      <td>8.259</td>\n",
       "      <td>amazon</td>\n",
       "      <td>3.0</td>\n",
       "      <td>13301.0</td>\n",
       "      <td>Thomas Mitchell</td>\n",
       "      <td>Uncle Billy</td>\n",
       "      <td>ACTOR</td>\n",
       "    </tr>\n",
       "    <tr>\n",
       "      <th>4</th>\n",
       "      <td>0</td>\n",
       "      <td>tm87233</td>\n",
       "      <td>It's a Wonderful Life</td>\n",
       "      <td>MOVIE</td>\n",
       "      <td>A holiday favourite for generations...  George...</td>\n",
       "      <td>1946</td>\n",
       "      <td>PG</td>\n",
       "      <td>130</td>\n",
       "      <td>['drama', 'romance', 'comedy', 'family', 'fant...</td>\n",
       "      <td>['US']</td>\n",
       "      <td>...</td>\n",
       "      <td>8.6</td>\n",
       "      <td>470551.0</td>\n",
       "      <td>27.86</td>\n",
       "      <td>8.259</td>\n",
       "      <td>amazon</td>\n",
       "      <td>4.0</td>\n",
       "      <td>34171.0</td>\n",
       "      <td>Henry Travers</td>\n",
       "      <td>Clarence</td>\n",
       "      <td>ACTOR</td>\n",
       "    </tr>\n",
       "  </tbody>\n",
       "</table>\n",
       "<p>5 rows × 22 columns</p>\n",
       "</div>"
      ],
      "text/plain": [
       "   Unnamed: 0_x       id                  title   type  \\\n",
       "0             0  tm87233  It's a Wonderful Life  MOVIE   \n",
       "1             0  tm87233  It's a Wonderful Life  MOVIE   \n",
       "2             0  tm87233  It's a Wonderful Life  MOVIE   \n",
       "3             0  tm87233  It's a Wonderful Life  MOVIE   \n",
       "4             0  tm87233  It's a Wonderful Life  MOVIE   \n",
       "\n",
       "                                         description  release_year  \\\n",
       "0  A holiday favourite for generations...  George...          1946   \n",
       "1  A holiday favourite for generations...  George...          1946   \n",
       "2  A holiday favourite for generations...  George...          1946   \n",
       "3  A holiday favourite for generations...  George...          1946   \n",
       "4  A holiday favourite for generations...  George...          1946   \n",
       "\n",
       "  age_certification  runtime  \\\n",
       "0                PG      130   \n",
       "1                PG      130   \n",
       "2                PG      130   \n",
       "3                PG      130   \n",
       "4                PG      130   \n",
       "\n",
       "                                              genres production_countries  \\\n",
       "0  ['drama', 'romance', 'comedy', 'family', 'fant...               ['US']   \n",
       "1  ['drama', 'romance', 'comedy', 'family', 'fant...               ['US']   \n",
       "2  ['drama', 'romance', 'comedy', 'family', 'fant...               ['US']   \n",
       "3  ['drama', 'romance', 'comedy', 'family', 'fant...               ['US']   \n",
       "4  ['drama', 'romance', 'comedy', 'family', 'fant...               ['US']   \n",
       "\n",
       "   ...  imdb_score imdb_votes  tmdb_popularity  tmdb_score  streaming  \\\n",
       "0  ...         8.6   470551.0            27.86       8.259     amazon   \n",
       "1  ...         8.6   470551.0            27.86       8.259     amazon   \n",
       "2  ...         8.6   470551.0            27.86       8.259     amazon   \n",
       "3  ...         8.6   470551.0            27.86       8.259     amazon   \n",
       "4  ...         8.6   470551.0            27.86       8.259     amazon   \n",
       "\n",
       "   Unnamed: 0_y person_id              name      character   role  \n",
       "0           0.0   25020.0     James Stewart  George Bailey  ACTOR  \n",
       "1           1.0   26190.0        Donna Reed     Mary Hatch  ACTOR  \n",
       "2           2.0   25653.0  Lionel Barrymore     Mr. Potter  ACTOR  \n",
       "3           3.0   13301.0   Thomas Mitchell    Uncle Billy  ACTOR  \n",
       "4           4.0   34171.0     Henry Travers       Clarence  ACTOR  \n",
       "\n",
       "[5 rows x 22 columns]"
      ]
     },
     "execution_count": 63,
     "metadata": {},
     "output_type": "execute_result"
    }
   ],
   "source": [
    "df_peliculas.head()"
   ]
  },
  {
   "cell_type": "code",
   "execution_count": null,
   "id": "3f99f837",
   "metadata": {},
   "outputs": [],
   "source": [
    "pd_streaming= df_peliculas.groupby(['streaming']).count().reset_index().sort_values(by = ['title'],ascending=False)"
   ]
  },
  {
   "cell_type": "code",
   "execution_count": 64,
   "id": "6818a60d",
   "metadata": {},
   "outputs": [
    {
     "data": {
      "text/plain": [
       "0"
      ]
     },
     "execution_count": 64,
     "metadata": {},
     "output_type": "execute_result"
    }
   ],
   "source": [
    "df_peliculas.duplicated().sum()"
   ]
  },
  {
   "cell_type": "code",
   "execution_count": 144,
   "id": "3cb0d567",
   "metadata": {},
   "outputs": [],
   "source": [
    "pd_categorias= df_peliculas.groupby(['release_year']).count().reset_index().sort_values(by = ['title'],ascending=False)"
   ]
  },
  {
   "cell_type": "code",
   "execution_count": 145,
   "id": "7ce14d4a",
   "metadata": {},
   "outputs": [
    {
     "data": {
      "text/html": [
       "<div>\n",
       "<style scoped>\n",
       "    .dataframe tbody tr th:only-of-type {\n",
       "        vertical-align: middle;\n",
       "    }\n",
       "\n",
       "    .dataframe tbody tr th {\n",
       "        vertical-align: top;\n",
       "    }\n",
       "\n",
       "    .dataframe thead th {\n",
       "        text-align: right;\n",
       "    }\n",
       "</style>\n",
       "<table border=\"1\" class=\"dataframe\">\n",
       "  <thead>\n",
       "    <tr style=\"text-align: right;\">\n",
       "      <th></th>\n",
       "      <th>streaming</th>\n",
       "      <th>title</th>\n",
       "    </tr>\n",
       "  </thead>\n",
       "  <tbody>\n",
       "    <tr>\n",
       "      <th>0</th>\n",
       "      <td>amazon</td>\n",
       "      <td>150408</td>\n",
       "    </tr>\n",
       "    <tr>\n",
       "      <th>4</th>\n",
       "      <td>netflix</td>\n",
       "      <td>87193</td>\n",
       "    </tr>\n",
       "    <tr>\n",
       "      <th>2</th>\n",
       "      <td>hbo</td>\n",
       "      <td>66187</td>\n",
       "    </tr>\n",
       "    <tr>\n",
       "      <th>3</th>\n",
       "      <td>hulu</td>\n",
       "      <td>41043</td>\n",
       "    </tr>\n",
       "    <tr>\n",
       "      <th>1</th>\n",
       "      <td>disney</td>\n",
       "      <td>32057</td>\n",
       "    </tr>\n",
       "  </tbody>\n",
       "</table>\n",
       "</div>"
      ],
      "text/plain": [
       "  streaming   title\n",
       "0    amazon  150408\n",
       "4   netflix   87193\n",
       "2       hbo   66187\n",
       "3      hulu   41043\n",
       "1    disney   32057"
      ]
     },
     "execution_count": 145,
     "metadata": {},
     "output_type": "execute_result"
    }
   ],
   "source": [
    "pd_streaming[['streaming','title']]"
   ]
  },
  {
   "cell_type": "code",
   "execution_count": 146,
   "id": "02215917",
   "metadata": {},
   "outputs": [
    {
     "data": {
      "text/html": [
       "<div>\n",
       "<style scoped>\n",
       "    .dataframe tbody tr th:only-of-type {\n",
       "        vertical-align: middle;\n",
       "    }\n",
       "\n",
       "    .dataframe tbody tr th {\n",
       "        vertical-align: top;\n",
       "    }\n",
       "\n",
       "    .dataframe thead th {\n",
       "        text-align: right;\n",
       "    }\n",
       "</style>\n",
       "<table border=\"1\" class=\"dataframe\">\n",
       "  <thead>\n",
       "    <tr style=\"text-align: right;\">\n",
       "      <th></th>\n",
       "      <th>streaming</th>\n",
       "      <th>title</th>\n",
       "    </tr>\n",
       "  </thead>\n",
       "  <tbody>\n",
       "    <tr>\n",
       "      <th>0</th>\n",
       "      <td>amazon</td>\n",
       "      <td>150408</td>\n",
       "    </tr>\n",
       "    <tr>\n",
       "      <th>4</th>\n",
       "      <td>netflix</td>\n",
       "      <td>87193</td>\n",
       "    </tr>\n",
       "    <tr>\n",
       "      <th>2</th>\n",
       "      <td>hbo</td>\n",
       "      <td>66187</td>\n",
       "    </tr>\n",
       "    <tr>\n",
       "      <th>3</th>\n",
       "      <td>hulu</td>\n",
       "      <td>41043</td>\n",
       "    </tr>\n",
       "    <tr>\n",
       "      <th>1</th>\n",
       "      <td>disney</td>\n",
       "      <td>32057</td>\n",
       "    </tr>\n",
       "  </tbody>\n",
       "</table>\n",
       "</div>"
      ],
      "text/plain": [
       "  streaming   title\n",
       "0    amazon  150408\n",
       "4   netflix   87193\n",
       "2       hbo   66187\n",
       "3      hulu   41043\n",
       "1    disney   32057"
      ]
     },
     "execution_count": 146,
     "metadata": {},
     "output_type": "execute_result"
    }
   ],
   "source": [
    "pd_streaming1 = pd_streaming[['streaming','title']]\n",
    "pd_streaming1"
   ]
  },
  {
   "cell_type": "code",
   "execution_count": 215,
   "id": "fc6a75e2",
   "metadata": {},
   "outputs": [
    {
     "name": "stdout",
     "output_type": "stream",
     "text": [
      "amazon 150408\n",
      "disney 32057\n",
      "hbo 66187\n",
      "hulu 41043\n",
      "netflix 87193\n"
     ]
    }
   ],
   "source": [
    "for i in range(len(pd_streaming1)):\n",
    "    print(pd_streaming1['streaming'][i], pd_streaming1['title'][i])"
   ]
  },
  {
   "cell_type": "code",
   "execution_count": 255,
   "id": "434d9bf6",
   "metadata": {},
   "outputs": [
    {
     "name": "stdout",
     "output_type": "stream",
     "text": [
      "[{'Color': 'success', 'title': 'amazon', 'value': 150408, 'align': 'center'}]\n",
      "[{'Color': 'success', 'title': 'disney', 'value': 32057, 'align': 'center'}]\n",
      "[{'Color': 'success', 'title': 'hbo', 'value': 66187, 'align': 'center'}]\n",
      "[{'Color': 'success', 'title': 'hulu', 'value': 41043, 'align': 'center'}]\n",
      "[{'Color': 'success', 'title': 'netflix', 'value': 87193, 'align': 'center'}]\n"
     ]
    }
   ],
   "source": [
    "s.set_workspace(uuid='0f44ae1d-9e6a-42c3-ba45-c0e602dd49a1')\n",
    "\n",
    "s.set_board('Cantidad de Titulos por Plataforma')\n",
    "\n",
    "s.set_menu_path('Titulos', 'Cantidad')\n",
    " \n",
    "s.plt.bar(order=0, title='Cantidad de Titulos por Plataforma', data=pd_streaming1, x=['streaming'], y=['title'] )\n",
    "\n",
    "##data = pd_streaming.iloc[1]\n",
    "\n",
    "\n",
    "###s.plt.indicator(data= data, order = 0)\n",
    "\n",
    "s.set_menu_path('Indicadores', 'Cantidad')\n",
    "\n",
    "i = 0\n",
    "\n",
    "for i in range(len(pd_streaming1)):\n",
    "    titulo = pd_streaming1['streaming'][i]\n",
    "    valor = pd_streaming1['title'][i]\n",
    "    data = [{\"Color\": \"success\", \"title\": titulo, \"value\":valor, \"align\":\"center\"}]\n",
    "    s.plt.indicator (data = data, order = i,)\n",
    "    i =+ 1\n",
    "    print(data)\n"
   ]
  },
  {
   "cell_type": "code",
   "execution_count": null,
   "id": "fd329c53",
   "metadata": {},
   "outputs": [],
   "source": []
  }
 ],
 "metadata": {
  "kernelspec": {
   "display_name": "Python 3 (ipykernel)",
   "language": "python",
   "name": "python3"
  },
  "language_info": {
   "codemirror_mode": {
    "name": "ipython",
    "version": 3
   },
   "file_extension": ".py",
   "mimetype": "text/x-python",
   "name": "python",
   "nbconvert_exporter": "python",
   "pygments_lexer": "ipython3",
   "version": "3.9.12"
  }
 },
 "nbformat": 4,
 "nbformat_minor": 5
}
